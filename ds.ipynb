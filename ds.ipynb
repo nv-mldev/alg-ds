{
 "cells": [
  {
   "cell_type": "markdown",
   "metadata": {},
   "source": [
    "## Operator Overloading\n",
    "[ref 1](https://www.programiz.com/python-programming/operator-overloading)\n",
    "[ref 2](https://docs.python.org/3/reference/datamodel.html#emulating-numeric-types)\n",
    "[ref 3](https://docs.python.org/3/reference/datamodel.html#special-method-names)"
   ]
  },
  {
   "cell_type": "code",
   "execution_count": 3,
   "metadata": {},
   "outputs": [
    {
     "data": {
      "text/plain": [
       "'imperialimperialimperial'"
      ]
     },
     "execution_count": 3,
     "metadata": {},
     "output_type": "execute_result"
    }
   ],
   "source": [
    "x = \"imperial\"\n",
    "y = \"college\"\n",
    "v = x*3\n",
    "v"
   ]
  },
  {
   "cell_type": "code",
   "execution_count": 7,
   "metadata": {},
   "outputs": [
    {
     "name": "stdout",
     "output_type": "stream",
     "text": [
      "20\n",
      "hello\n"
     ]
    }
   ],
   "source": [
    "x = 20\n",
    "y = x\n",
    "x = \"hello\"\n",
    "print(y)\n",
    "y=x\n",
    "print(y)"
   ]
  },
  {
   "cell_type": "code",
   "execution_count": 6,
   "metadata": {},
   "outputs": [
    {
     "name": "stdout",
     "output_type": "stream",
     "text": [
      "The 1D index is: 11\n"
     ]
    }
   ],
   "source": [
    "R = int(input(\"Enter the number of rows: \"))\n",
    "C = int(input(\"Enter the number of columns: \"))\n",
    "r = int(input(\"Enter the row index: \"))\n",
    "c = int(input(\"Enter the column index: \"))\n",
    "s = r*C + c\n",
    "# Print the result\n",
    "print(f\"The 1D index is: {s}\")"
   ]
  },
  {
   "cell_type": "code",
   "execution_count": 2,
   "metadata": {},
   "outputs": [
    {
     "data": {
      "text/plain": [
       "False"
      ]
     },
     "execution_count": 2,
     "metadata": {},
     "output_type": "execute_result"
    }
   ],
   "source": [
    "1.1 + 2.2 == 3.3"
   ]
  },
  {
   "cell_type": "code",
   "execution_count": 3,
   "metadata": {},
   "outputs": [
    {
     "data": {
      "text/plain": [
       "False"
      ]
     },
     "execution_count": 3,
     "metadata": {},
     "output_type": "execute_result"
    }
   ],
   "source": [
    "\"10\" > \"2\""
   ]
  },
  {
   "cell_type": "code",
   "execution_count": 3,
   "metadata": {},
   "outputs": [],
   "source": [
    "x = 7\n",
    "y = 3\n",
    "result = x == 5 < y"
   ]
  },
  {
   "cell_type": "code",
   "execution_count": 4,
   "metadata": {},
   "outputs": [
    {
     "data": {
      "text/plain": [
       "False"
      ]
     },
     "execution_count": 4,
     "metadata": {},
     "output_type": "execute_result"
    }
   ],
   "source": [
    "result"
   ]
  },
  {
   "cell_type": "code",
   "execution_count": 2,
   "metadata": {},
   "outputs": [
    {
     "data": {
      "text/plain": [
       "(1, 2, 3, 4, 5, 1, 2, 3, 4, 5, 1, 2, 3, 4, 5)"
      ]
     },
     "execution_count": 2,
     "metadata": {},
     "output_type": "execute_result"
    }
   ],
   "source": [
    "my_tuple = (1, 2, 3, 4, 5)\n",
    "my_tuple*3"
   ]
  },
  {
   "cell_type": "code",
   "execution_count": 4,
   "metadata": {},
   "outputs": [
    {
     "name": "stdout",
     "output_type": "stream",
     "text": [
      "[1, 2, 3, 4, 5, 1, 2, 3, 4, 5, 1, 2, 3, 4, 5]\n",
      "[[1, 2, 3, 4, 5], [1, 2, 3, 4, 5], [1, 2, 3, 4, 5]]\n"
     ]
    }
   ],
   "source": [
    "my_list = [1, 2, 3, 4, 5]\n",
    "print(my_list*3)\n",
    "[my_list]*3\n",
    "print([my_list]*3)"
   ]
  },
  {
   "cell_type": "code",
   "execution_count": 21,
   "metadata": {},
   "outputs": [
    {
     "data": {
      "text/plain": [
       "((1, 2, 3), (1, 2, 3))"
      ]
     },
     "execution_count": 21,
     "metadata": {},
     "output_type": "execute_result"
    }
   ],
   "source": [
    "my_tuple = ((1,2,3),)\n",
    "my_tuple*2\n"
   ]
  },
  {
   "cell_type": "code",
   "execution_count": 17,
   "metadata": {},
   "outputs": [
    {
     "data": {
      "text/plain": [
       "((1, 2, 3), (1, 2, 3), (1, 2, 3))"
      ]
     },
     "execution_count": 17,
     "metadata": {},
     "output_type": "execute_result"
    }
   ],
   "source": [
    "((1, 2, 3),) * 3"
   ]
  },
  {
   "cell_type": "code",
   "execution_count": 22,
   "metadata": {},
   "outputs": [],
   "source": [
    "my_tuple = (2)"
   ]
  },
  {
   "cell_type": "code",
   "execution_count": 24,
   "metadata": {},
   "outputs": [
    {
     "data": {
      "text/plain": [
       "int"
      ]
     },
     "execution_count": 24,
     "metadata": {},
     "output_type": "execute_result"
    }
   ],
   "source": [
    "type(my_tuple)"
   ]
  },
  {
   "cell_type": "code",
   "execution_count": 26,
   "metadata": {},
   "outputs": [],
   "source": [
    "a = {1, 2, 3, 4, 5}\n",
    "a.add(4)"
   ]
  },
  {
   "cell_type": "code",
   "execution_count": 27,
   "metadata": {},
   "outputs": [
    {
     "data": {
      "text/plain": [
       "dict_items([(1, 'one'), (2, 'two'), (3, 'three')])"
      ]
     },
     "execution_count": 27,
     "metadata": {},
     "output_type": "execute_result"
    }
   ],
   "source": [
    "my_dict = {1: 'one', 2: 'two', 3: 'three'}\n",
    "my_dict.items()"
   ]
  },
  {
   "cell_type": "code",
   "execution_count": 6,
   "metadata": {},
   "outputs": [
    {
     "name": "stdout",
     "output_type": "stream",
     "text": [
      "The result is 5.0\n",
      "Execution of the try-except block is complete.\n",
      "Error: division by zero\n",
      "Execution of the try-except block is complete.\n"
     ]
    }
   ],
   "source": [
    "def divide_numbers(a, b):\n",
    "    try:\n",
    "        result = a / b\n",
    "    except ZeroDivisionError as e:\n",
    "        print(f\"Error: {e}\")\n",
    "    else:\n",
    "        print(f\"The result is {result}\")\n",
    "    finally:\n",
    "        print(\"Execution of the try-except block is complete.\")\n",
    "\n",
    "# Example usage\n",
    "divide_numbers(10, 2)  # This will execute without an error\n",
    "divide_numbers(10, 0)  # This will raise a ZeroDivisionError"
   ]
  },
  {
   "cell_type": "code",
   "execution_count": null,
   "metadata": {},
   "outputs": [],
   "source": [
    "def read_file(file_path):\n",
    "    try:\n",
    "        file = open(file_path, 'r')\n",
    "        content = file.read()\n",
    "    except FileNotFoundError as e:\n",
    "        print(f\"Error: {e}\")\n",
    "    else:\n",
    "        print(f\"File content:\\n{content}\")\n",
    "    finally:\n",
    "        try:\n",
    "            file.close()\n",
    "        except NameError:\n",
    "            print(\"The file variable is not defined.\")\n",
    "        print(\"Execution of the try-except block is complete.\")\n",
    "\n",
    "# Example usage\n",
    "# read_file('non_existing_file.txt')  # This will raise a FileNotFoundError"
   ]
  },
  {
   "cell_type": "code",
   "execution_count": 8,
   "metadata": {},
   "outputs": [
    {
     "name": "stdout",
     "output_type": "stream",
     "text": [
      "File content:\n",
      "print(f\"The price of the banana is {0.68:>20.2f} and the price of the apple is {0.98:<20.2f}\")\n",
      "\n",
      "Execution of the try-except block is complete.\n"
     ]
    }
   ],
   "source": [
    "read_file('test.py')  # This will execute without an error if the file exists\n"
   ]
  },
  {
   "cell_type": "code",
   "execution_count": 9,
   "metadata": {},
   "outputs": [
    {
     "name": "stdout",
     "output_type": "stream",
     "text": [
      "Error: [Errno 2] No such file or directory: 'non_existing_file.txt'\n",
      "Execution of the try-except block is complete.\n"
     ]
    }
   ],
   "source": [
    "read_file('non_existing_file.txt')"
   ]
  },
  {
   "cell_type": "code",
   "execution_count": 10,
   "metadata": {},
   "outputs": [],
   "source": [
    "def square_root(x):\n",
    "    guess = x / 2\n",
    "    while abs(guess**2 - x) > 0.0001:\n",
    "        guess = (guess + (x / guess)) / 2\n",
    "    return guess"
   ]
  },
  {
   "cell_type": "code",
   "execution_count": 13,
   "metadata": {},
   "outputs": [
    {
     "data": {
      "text/plain": [
       "5.477225575302472"
      ]
     },
     "execution_count": 13,
     "metadata": {},
     "output_type": "execute_result"
    }
   ],
   "source": [
    "square_root(30)"
   ]
  },
  {
   "cell_type": "code",
   "execution_count": null,
   "metadata": {},
   "outputs": [],
   "source": []
  }
 ],
 "metadata": {
  "kernelspec": {
   "display_name": ".venv",
   "language": "python",
   "name": "python3"
  },
  "language_info": {
   "codemirror_mode": {
    "name": "ipython",
    "version": 3
   },
   "file_extension": ".py",
   "mimetype": "text/x-python",
   "name": "python",
   "nbconvert_exporter": "python",
   "pygments_lexer": "ipython3",
   "version": "3.12.3"
  }
 },
 "nbformat": 4,
 "nbformat_minor": 2
}
